{
 "cells": [
  {
   "cell_type": "code",
   "execution_count": null,
   "metadata": {},
   "outputs": [],
   "source": [
    "class Node:\n",
    "    def __init__(self, data, left=None, right=None):\n",
    "        self.data = data\n",
    "        self.left = left\n",
    "        self.right = right"
   ]
  },
  {
   "cell_type": "code",
   "execution_count": null,
   "metadata": {},
   "outputs": [],
   "source": [
    "# define class binary tree\n",
    "class BinaryTree:\n",
    "    def __init__(self, data):\n",
    "        self.root = Node(data)\n",
    "    \n",
    "    def insert(self, data):\n",
    "        self.insert_by_node(self.root, data)\n",
    "        return\n",
    "    \n",
    "    def insert_by_node(self, node, data):\n",
    "        if data <= node.data:\n",
    "            if not node.left:\n",
    "                self.insert_by_node(node.left, data)\n",
    "            else:\n",
    "                node.left = Node(data)\n",
    "        '''\n",
    "        fill in the code\n",
    "        '''\n",
    "                \n",
    "    def contains(self, data):\n",
    "        return self.contains_by_node(self.root, data)\n",
    "    \n",
    "    def contains_by_node(self, node, data):\n",
    "        '''\n",
    "        fill in the code\n",
    "        '''\n",
    "        return False"
   ]
  },
  {
   "cell_type": "code",
   "execution_count": null,
   "metadata": {},
   "outputs": [],
   "source": [
    "def in_order(node):\n",
    "    # reach leaf\n",
    "    if (not node.left) and (not node.right):\n",
    "        print(\"{}, \".format(node.data))\n",
    "        return\n",
    "\n",
    "    print(\"{}, \".format(node.data))\n",
    "    in_order(node.left)\n",
    "    in_order(node.right)\n",
    "        \n",
    "def in_order_traversal(T):\n",
    "    in_order(T.root)"
   ]
  },
  {
   "cell_type": "markdown",
   "metadata": {},
   "source": [
    "## Binary Tree\n",
    "\n",
    "- Insert data into the tree\n",
    "- Query if the certain data is inserted"
   ]
  },
  {
   "cell_type": "code",
   "execution_count": null,
   "metadata": {},
   "outputs": [],
   "source": [
    "import random\n",
    "random.seed(10)\n",
    "dataset = [random.randint(0, 100)for x in range(15)]\n",
    "queryset = [0, 20, 13, 62, 15]"
   ]
  },
  {
   "cell_type": "code",
   "execution_count": null,
   "metadata": {},
   "outputs": [],
   "source": [
    "bt = BinaryTree(dataset[])\n",
    "'''\n",
    "fill in the code\n",
    "insert dataset[1:]\n",
    "'''\n",
    "\n",
    "in_order_traversal(bt)\n",
    "\n",
    "'''\n",
    "fill in the code\n",
    "query elements in queryset, print results\n",
    "'''"
   ]
  },
  {
   "cell_type": "code",
   "execution_count": null,
   "metadata": {},
   "outputs": [],
   "source": []
  }
 ],
 "metadata": {
  "kernelspec": {
   "display_name": "Python 3",
   "language": "python",
   "name": "python3"
  },
  "language_info": {
   "codemirror_mode": {
    "name": "ipython",
    "version": 3
   },
   "file_extension": ".py",
   "mimetype": "text/x-python",
   "name": "python",
   "nbconvert_exporter": "python",
   "pygments_lexer": "ipython3",
   "version": "3.8.5"
  }
 },
 "nbformat": 4,
 "nbformat_minor": 2
}
