{
 "cells": [
  {
   "cell_type": "code",
   "execution_count": null,
   "metadata": {},
   "outputs": [],
   "source": [
    "# 5.1.1\n",
    "\"\"\"\n",
    "\n",
    "The brute algorithm will run in omega(DP) if P is found at the first substring\n",
    "of D\n",
    "\n",
    "\"\"\"\n",
    "\n",
    "def find_brute(D, P):\n",
    "    \"\"\"\n",
    "    Brute force string matching algorithm\n",
    "    :param D: string\n",
    "    :param P:  string\n",
    "    :return: boolean\n",
    "    \"\"\"\n",
    "\n",
    "    n, m = len(D), len(P)\n",
    "    for i in range(n - m + 1):\n",
    "        k = 0\n",
    "        while k < m and D[i+k] == P[k]:\n",
    "            k += 1\n",
    "        if k == m:\n",
    "            return i\n",
    "    return -1\n",
    "\n",
    "\n",
    "if __name__ == '__main__':\n",
    "    H = \"bbbcbbbabbbabbbabbbabbbabbba\"\n",
    "    N = \"bbbc\"\n",
    "    print(find_brute(H, N))"
   ]
  }
 ],
 "metadata": {},
 "nbformat": 4,
 "nbformat_minor": 0
}
