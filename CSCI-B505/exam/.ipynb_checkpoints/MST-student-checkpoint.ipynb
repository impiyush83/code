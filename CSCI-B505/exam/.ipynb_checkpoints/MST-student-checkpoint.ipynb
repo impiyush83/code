{
 "cells": [
  {
   "cell_type": "markdown",
   "metadata": {},
   "source": [
    "# Final exam programming problem\n",
    "\n",
    "In this problem, you will work on the following:\n",
    "\n",
    "- For a graph G, you will compute its MST\n",
    "- We will add an edge into the MST and you should be able to quickly update the MST\n",
    "\n",
    "To solve this problem, you may consult three lab sessions:\n",
    "\n",
    "- Merge sort (We will sort the edges using merge sort)\n",
    "- MST (Kruskal's algorithm)\n",
    "- DFS (To find a cycle on a graph)"
   ]
  },
  {
   "cell_type": "code",
   "execution_count": 40,
   "metadata": {},
   "outputs": [],
   "source": [
    "import random\n",
    "from queue import PriorityQueue"
   ]
  },
  {
   "cell_type": "markdown",
   "metadata": {},
   "source": [
    "## Part 1\n",
    "\n",
    "You must work with the provided data structures.\n",
    "You may use your own data structures if they are not defined here."
   ]
  },
  {
   "cell_type": "code",
   "execution_count": 41,
   "metadata": {},
   "outputs": [],
   "source": [
    "# Define graph edge\n",
    "class Edge:\n",
    "    def __init__(self, node1, node2, weight=1.0):\n",
    "        self.node1 = node1\n",
    "        self.node2 = node2\n",
    "        self.weight = weight\n",
    "        \n",
    "    def __lt__(self, other):\n",
    "        selfPriority = self.weight\n",
    "        otherPriority = other.weight\n",
    "        return selfPriority < otherPriority"
   ]
  },
  {
   "cell_type": "code",
   "execution_count": 42,
   "metadata": {},
   "outputs": [],
   "source": [
    "# Define an undirected graph\n",
    "class UndirectedGraph:\n",
    "    def __init__(self, n):\n",
    "        self.num_nodes = n\n",
    "        self.nodes = [set() for i in range(n)]\n",
    "        self.edges = []\n",
    "    \n",
    "    # edge node1 <--> node2 (undirected)\n",
    "    def insert(self, node1, node2, weight=1.0):\n",
    "        self.nodes[node1].add(node2)\n",
    "        self.nodes[node2].add(node1)\n",
    "        self.edges.append(Edge(node1, node2, weight))\n",
    "        self.edges.append(Edge(node2, node1, weight))"
   ]
  },
  {
   "cell_type": "markdown",
   "metadata": {},
   "source": [
    "### Graph representation\n",
    "\n",
    "- Linked list: self.nodes in class UndirectedGraph (for DFS)\n",
    "- Edge list: self.edges in class UndirectedGraph (for MST)"
   ]
  },
  {
   "cell_type": "code",
   "execution_count": 43,
   "metadata": {},
   "outputs": [],
   "source": [
    "# A function to generate a random graph\n",
    "def generate_graph_and_output_edges(num_nodes, random_seed, num_edge_per_node=3):\n",
    "    random.seed(random_seed)\n",
    "    graph = UndirectedGraph(num_nodes)\n",
    "    edge_list = []\n",
    "    for i in range(num_nodes):\n",
    "        while len(graph.nodes[i]) < num_edge_per_node:\n",
    "            node = random.randint(0, num_nodes-1)\n",
    "            if node != i and (node not in graph.nodes[i]):\n",
    "                weight = random.random()\n",
    "                graph.insert(i, node, weight)\n",
    "    return graph  "
   ]
  },
  {
   "cell_type": "markdown",
   "metadata": {},
   "source": [
    "### A small sample graph\n",
    "\n",
    "This is a sample graph so you can learn how graph is represented in this problem"
   ]
  },
  {
   "cell_type": "code",
   "execution_count": 44,
   "metadata": {},
   "outputs": [
    {
     "name": "stdout",
     "output_type": "stream",
     "text": [
      "[{1, 2, 3}, {0, 3, 4}, {0, 3, 4}, {0, 1, 2}, {1, 2}]\n",
      " 0,  1, 0.45953\n",
      " 1,  0, 0.45953\n",
      " 0,  3, 0.73196\n",
      " 3,  0, 0.73196\n",
      " 1,  3, 0.50687\n",
      " 3,  1, 0.50687\n",
      " 2,  0, 0.53290\n",
      " 0,  2, 0.53290\n",
      " 2,  3, 0.26342\n",
      " 3,  2, 0.26342\n",
      " 4,  1, 0.33535\n",
      " 1,  4, 0.33535\n",
      " 4,  2, 0.83890\n",
      " 2,  4, 0.83890\n"
     ]
    }
   ],
   "source": [
    "# Generate the graph\n",
    "graph_sample = generate_graph_and_output_edges(5, 100, 2)\n",
    "\n",
    "# print nodes represented in linked list\n",
    "print(graph_sample.nodes)\n",
    "\n",
    "# print edges represented in edge list\n",
    "for e in graph_sample.edges:\n",
    "    print(\"{:2d}, {:2d}, {:.5f}\".format(e.node1, e.node2, e.weight))"
   ]
  },
  {
   "cell_type": "code",
   "execution_count": 45,
   "metadata": {},
   "outputs": [],
   "source": [
    "# Union Find data structure is provided to support Kruskal\n",
    "class UnionFind:\n",
    "    def __init__(self, num_nodes):\n",
    "        # Initially position[i] = i\n",
    "        self.position = [i for i in range(num_nodes)]\n",
    "        \n",
    "    # Return the cluster index\n",
    "    def find(self, node):\n",
    "        if self.position[node] == node:\n",
    "            return node\n",
    "        else:\n",
    "            self.position[node] = self.find(self.position[node])\n",
    "            return self.position[node]\n",
    "    \n",
    "    def union(self, node1, node2):\n",
    "        a = self.find(node1)\n",
    "        b = self.find(node2)\n",
    "        # no need to union\n",
    "        if a == b:\n",
    "            return\n",
    "        # union is needed\n",
    "        else:\n",
    "            if a < b:\n",
    "                self.position[b] = a\n",
    "            else:\n",
    "                self.position[a] = b"
   ]
  },
  {
   "cell_type": "markdown",
   "metadata": {},
   "source": [
    "## Part 2\n",
    "\n",
    "Find a MST for a given graph.\n",
    "\n",
    "The returned MST should be in edge list format. (Just like what we did in the lab)\n",
    "\n",
    "When sorting the graph.edges, you must use Merge Sort. (We used PriorityQueue in the lab)"
   ]
  },
  {
   "cell_type": "code",
   "execution_count": 89,
   "metadata": {},
   "outputs": [],
   "source": [
    "# Implement MergeSort\n",
    "\n",
    "# Your merge sort should returend a sorted list of A\n",
    "def merge(X, Y):\n",
    "    m = len(X)\n",
    "    n = len(Y)  \n",
    "    '''\n",
    "    \n",
    "    fill in the code\n",
    "    \n",
    "    '''\n",
    "    result = [0 for i in range(n+m)]\n",
    "    pq = PriorityQueue()\n",
    "    for i in range(m):\n",
    "        pq.put(X[i])\n",
    "        \n",
    "    for i in range(n):\n",
    "        pq.put(Y[i])\n",
    "    \n",
    "    j = 0 \n",
    "    \n",
    "    while not pq.empty():\n",
    "        result[j] = pq.get()\n",
    "        j += 1\n",
    "        \n",
    "    return result\n",
    "                \n",
    "    \n",
    "def MergeSort(A):\n",
    "    n = len(A)\n",
    "    '''\n",
    "    \n",
    "    fill in the code\n",
    "    \n",
    "    '''\n",
    "    A = merge(A[:n//2], A[n - n//2:])\n",
    "    return A"
   ]
  },
  {
   "cell_type": "code",
   "execution_count": 103,
   "metadata": {},
   "outputs": [],
   "source": [
    "# Implement Kruskal\n",
    "\n",
    "# returned MST is a list of class Edge\n",
    "def kruskal(graph):\n",
    "    MST = []\n",
    "    uf = UnionFind(graph.num_nodes)\n",
    "\n",
    "    sorted_edge_list = MergeSort(graph.edges)\n",
    "    '''\n",
    "    \n",
    "    fill in the code\n",
    "    \n",
    "    '''\n",
    "    size = graph.num_nodes\n",
    "    pq = PriorityQueue()\n",
    "    for edge in sorted_edge_list:\n",
    "        pq.put(edge)\n",
    "    \n",
    "    while len(MST) != size - 1 and not pq.empty():\n",
    "        edge = pq.get()\n",
    "        node_1 = uf.find(edge.node1)\n",
    "        node_2 = uf.find(edge.node2)\n",
    "        if node_1 != node_2:\n",
    "            MST.append(edge)\n",
    "            uf.union(node_1, node_2)\n",
    "\n",
    "    return MST"
   ]
  },
  {
   "cell_type": "markdown",
   "metadata": {},
   "source": [
    "## Part 3\n",
    "\n",
    "A new edge (2, 19) with weight 0.2\n",
    "\n",
    "We need to quickly update the old MST to get a new MST"
   ]
  },
  {
   "cell_type": "code",
   "execution_count": 104,
   "metadata": {},
   "outputs": [],
   "source": [
    "# Construct a graph from edge list. This is given to you.\n",
    "\n",
    "# We assume num_nodes is given for simplicity.\n",
    "def generate_graph_from_edges(edge_list, num_nodes):\n",
    "    graph = UndirectedGraph(num_nodes)\n",
    "    for e in edge_list:\n",
    "        graph.insert(e.node1, e.node2, e.weight)\n",
    "    return graph"
   ]
  },
  {
   "cell_type": "markdown",
   "metadata": {},
   "source": [
    "### Algorithm\n",
    "\n",
    "- We add the new edge to the old MST which will generate a cycle\n",
    "\n",
    "- The cycle consists at least three edges\n",
    "\n",
    "- The edge with the largest weight should be removed\n",
    "\n",
    "- You ONLY need to print out the edges on the cycle to get full marks (the two end nodes and the weight)\n",
    "\n",
    "### Sample example\n",
    "\n",
    "- We have a MST for a graph of 3 nodes\n",
    "\n",
    "- MST has edge (0, 1, 0.12) and (0, 2, 0.23)\n",
    "\n",
    "- We add a new edge (1, 2, 0.2)\n",
    "\n",
    "- A cycle of three edges is generated\n",
    "\n",
    "- We need to delete edge (0, 2, 0.23)"
   ]
  },
  {
   "cell_type": "markdown",
   "metadata": {},
   "source": [
    "### How to use DFS to find the cycle\n",
    "\n",
    "- Suppose the new edge is (2, 19, 0.2)\n",
    "\n",
    "- If we DFS from node 2, we will eventurally hit node 19\n",
    "\n",
    "- You need to properly append and pop on \"cycle_edges\" during DFS \n",
    "\n",
    "- The \"cycle_edge\" should contain the final path from 2 to 19"
   ]
  },
  {
   "cell_type": "code",
   "execution_count": 105,
   "metadata": {},
   "outputs": [],
   "source": [
    "# Use DFS to detect the cycle\n",
    "\n",
    "# You may add more arguments in dfs_recursive() for your convenience\n",
    "\n",
    "def dfs(graph, starting_node, stopping_node):\n",
    "    visited_nodes = [False for i in range(graph.num_nodes)]\n",
    "    cycle_edges = []\n",
    "    dfs_recursive(graph, starting_node, visited_nodes, cycle_edges, stopping_node)\n",
    "    \n",
    "    # The following is for demonstration purpose\n",
    "    print(\"We found {:d} edges from node {:d} to node {:d}\"\n",
    "          .format(len(cycle_edges), starting_node, stopping_node))\n",
    "    for e in cycle_edges:\n",
    "        '''\n",
    "        print the two end nodes of the edge\n",
    "            the weight information is not known so you do not need to output \n",
    "        \n",
    "        You may change the following print statement\n",
    "            if you did not use Edge class\n",
    "        '''\n",
    "        print(\"{:2d}, {:2d}\".format(e.node1, e.node2))\n",
    "\n",
    "\n",
    "def dfs_recursive(graph, starting_node, visited_nodes, cycle_edges, stopping_node):\n",
    "    '''\n",
    "\n",
    "    fill in code here\n",
    "\n",
    "    '''\n",
    "    visited_nodes[starting_node] = True\n",
    "    for node in graph.nodes[starting_node]:\n",
    "        if not visited_nodes[node]:\n",
    "            if dfs_recursive(graph, node, visited_nodes, cycle_edges, stopping_node):\n",
    "                cycle_edges.insert(0, (Edge(starting_node, node)))\n",
    "                return True\n",
    "        if node == stopping_node:\n",
    "            cycle_edges.insert(0,(Edge(starting_node, node)))\n",
    "            return True\n",
    "    return False"
   ]
  },
  {
   "cell_type": "markdown",
   "metadata": {},
   "source": [
    "## Part 4 Test code\n",
    "\n",
    "Do NOT modify the code in this part.\n"
   ]
  },
  {
   "cell_type": "code",
   "execution_count": 106,
   "metadata": {},
   "outputs": [
    {
     "name": "stdout",
     "output_type": "stream",
     "text": [
      " 3, 18, 0.00406\n",
      " 5,  1, 0.03175\n",
      "18,  0, 0.03259\n",
      " 5,  0, 0.03440\n",
      "11,  1, 0.04456\n",
      " 2, 18, 0.05057\n",
      "13, 15, 0.06277\n",
      " 4, 15, 0.06499\n",
      "11,  7, 0.07993\n",
      "19,  4, 0.10876\n",
      " 8,  9, 0.14351\n",
      " 5, 16, 0.15642\n",
      " 9, 10, 0.16494\n",
      " 7, 14, 0.16636\n",
      "16,  9, 0.17846\n",
      " 3,  4, 0.19495\n",
      " 6,  4, 0.38442\n",
      "12,  5, 0.39059\n",
      "17,  0, 0.43858\n"
     ]
    }
   ],
   "source": [
    "graph_mst = generate_graph_and_output_edges(20, 10, 5)\n",
    "MST = kruskal(graph_mst)\n",
    "\n",
    "for e in MST:\n",
    "    print(\"{:2d}, {:2d}, {:.5f}\".format(e.node1, e.node2, e.weight))"
   ]
  },
  {
   "cell_type": "code",
   "execution_count": 107,
   "metadata": {},
   "outputs": [],
   "source": [
    "def find_the_cycle(MST, new_edge, num_nodes):\n",
    "    # construct graph from edge list\n",
    "    graph_cycle = generate_graph_from_edges(MST, num_nodes)\n",
    "\n",
    "    # call dfs to find a path from node1 to node2\n",
    "    dfs(graph_cycle, new_edge.node1, new_edge.node2)"
   ]
  },
  {
   "cell_type": "code",
   "execution_count": 108,
   "metadata": {},
   "outputs": [
    {
     "name": "stdout",
     "output_type": "stream",
     "text": [
      "We found 4 edges from node 2 to node 19\n",
      " 2, 18\n",
      "18,  3\n",
      " 3,  4\n",
      " 4, 19\n"
     ]
    }
   ],
   "source": [
    "find_the_cycle(MST, Edge(2, 19, 0.2), 20)"
   ]
  },
  {
   "cell_type": "code",
   "execution_count": 109,
   "metadata": {},
   "outputs": [
    {
     "name": "stdout",
     "output_type": "stream",
     "text": [
      "We found 7 edges from node 3 to node 14\n",
      " 3, 18\n",
      "18,  0\n",
      " 0,  5\n",
      " 5,  1\n",
      " 1, 11\n",
      "11,  7\n",
      " 7, 14\n"
     ]
    }
   ],
   "source": [
    "# Instead we can add edge (3, 14, 0.1)\n",
    "find_the_cycle(MST, Edge(3, 14, 0.1), 20)"
   ]
  },
  {
   "cell_type": "markdown",
   "metadata": {},
   "source": [
    "### Hint\n",
    "\n",
    "If you run the following codes,"
   ]
  },
  {
   "cell_type": "code",
   "execution_count": 110,
   "metadata": {},
   "outputs": [
    {
     "name": "stdout",
     "output_type": "stream",
     "text": [
      "The minimum spanning tree:\n",
      " 6,  8, 0.00920\n",
      " 5,  0, 0.02232\n",
      " 1,  0, 0.25507\n",
      " 6,  3, 0.43277\n",
      " 3,  1, 0.48786\n",
      " 0,  9, 0.52763\n",
      " 2,  0, 0.56920\n",
      " 4,  3, 0.59115\n",
      " 7,  2, 0.65159\n",
      "We found 3 edges from node 1 to node 8\n",
      " 1,  3\n",
      " 3,  6\n",
      " 6,  8\n"
     ]
    }
   ],
   "source": [
    "graph_hint = generate_graph_and_output_edges(10, 1, 2)\n",
    "\n",
    "mst = kruskal(graph_hint)\n",
    "\n",
    "print(\"The minimum spanning tree:\")\n",
    "for e in mst:\n",
    "    print(\"{:2d}, {:2d}, {:.5f}\".format(e.node1, e.node2, e.weight))\n",
    "\n",
    "find_the_cycle(mst, Edge(1, 8, 0.2), 10)"
   ]
  },
  {
   "cell_type": "code",
   "execution_count": 111,
   "metadata": {},
   "outputs": [
    {
     "name": "stdout",
     "output_type": "stream",
     "text": [
      "\n"
     ]
    }
   ],
   "source": [
    "# this is the results you should get:\n",
    "'''\n",
    "The minimum spanning tree:\n",
    " 8,  6, 0.00920\n",
    " 0,  5, 0.02232\n",
    " 1,  0, 0.25507\n",
    " 6,  3, 0.43277\n",
    " 1,  3, 0.48786\n",
    " 0,  9, 0.52763\n",
    " 2,  0, 0.56920\n",
    " 3,  4, 0.59115\n",
    " 7,  2, 0.65159\n",
    "We found 3 edges from node 1 to node 8\n",
    " 1,  3\n",
    " 3,  6\n",
    " 6,  8\n",
    "'''\n",
    "print()"
   ]
  }
 ],
 "metadata": {
  "interpreter": {
   "hash": "7a792fcb311f9eb9f3c1b942a8c87ada8484712b89b670347c16a1088e0a1f69"
  },
  "kernelspec": {
   "display_name": "Python 3 (ipykernel)",
   "language": "python",
   "name": "python3"
  },
  "language_info": {
   "codemirror_mode": {
    "name": "ipython",
    "version": 3
   },
   "file_extension": ".py",
   "mimetype": "text/x-python",
   "name": "python",
   "nbconvert_exporter": "python",
   "pygments_lexer": "ipython3",
   "version": "3.7.0"
  }
 },
 "nbformat": 4,
 "nbformat_minor": 2
}
